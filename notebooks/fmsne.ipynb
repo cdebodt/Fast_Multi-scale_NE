{
 "cells": [
  {
   "cell_type": "code",
   "execution_count": 1,
   "id": "c405c88e",
   "metadata": {},
   "outputs": [],
   "source": [
    "import sklearn.datasets\n",
    "import sklearn.manifold\n",
    "import time\n",
    "\n",
    "import fmsne"
   ]
  },
  {
   "cell_type": "code",
   "execution_count": 23,
   "id": "93f0350c",
   "metadata": {},
   "outputs": [],
   "source": [
    "# Largest neighborhood size to consider when employing the\n",
    "# 'red_rnx_auc' function for the reduced quality assessment in the\n",
    "# demo.\n",
    "Kup = 10000"
   ]
  },
  {
   "cell_type": "code",
   "execution_count": 19,
   "id": "66725e48",
   "metadata": {},
   "outputs": [
    {
     "data": {
      "text/plain": [
       "array([19,  7,  0, ..., 11, 12, 21])"
      ]
     },
     "execution_count": 19,
     "metadata": {},
     "output_type": "execute_result"
    }
   ],
   "source": [
    "X_hds, label = sklearn.datasets.make_blobs(n_samples=11000, n_features=12, centers=22, cluster_std=1.0, center_box=(-10.0, 10.0), shuffle=True, random_state=3)"
   ]
  },
  {
   "cell_type": "code",
   "execution_count": 20,
   "id": "023be0ec",
   "metadata": {},
   "outputs": [
    {
     "data": {
      "text/plain": [
       "array([[-2.17835312,  0.83513348,  2.44378383, ..., -4.05643124,\n",
       "        -7.70324025,  3.86181136],\n",
       "       [ 2.95942852,  0.73188722,  6.31845425, ...,  4.60871667,\n",
       "         4.38290148,  7.3494298 ],\n",
       "       [ 1.55727311,  3.4814885 , -5.08383881, ..., -0.93708656,\n",
       "        -8.93866356, -0.11697329],\n",
       "       ...,\n",
       "       [ 0.7868025 ,  6.93857284, -5.42869924, ..., -6.266406  ,\n",
       "         3.95897172, -6.41283556],\n",
       "       [ 2.05716344,  6.41917298,  3.25338142, ..., -4.7592105 ,\n",
       "         7.82157572,  6.29655331],\n",
       "       [ 5.55539457,  1.03317579, -0.5089204 , ..., -0.76421238,\n",
       "         3.25146932,  1.005046  ]])"
      ]
     },
     "execution_count": 20,
     "metadata": {},
     "output_type": "execute_result"
    }
   ],
   "source": [
    "X_hds"
   ]
  },
  {
   "cell_type": "code",
   "execution_count": 21,
   "id": "3d2ea4e3",
   "metadata": {},
   "outputs": [
    {
     "data": {
      "text/plain": [
       "array([19,  7,  0, ..., 11, 12, 21])"
      ]
     },
     "execution_count": 21,
     "metadata": {},
     "output_type": "execute_result"
    }
   ],
   "source": [
    "label"
   ]
  },
  {
   "cell_type": "code",
   "execution_count": 14,
   "id": "334f4ecd",
   "metadata": {},
   "outputs": [
    {
     "name": "stdout",
     "output_type": "stream",
     "text": [
      "Number of data samples: 11000\n",
      "HDS dimension: 12\n"
     ]
    }
   ],
   "source": [
    "N_samp, M_HD = X_hds.shape\n",
    "print(\"Number of data samples: {N_samp}\".format(N_samp=N_samp))\n",
    "print(\"HDS dimension: {M_HD}\".format(M_HD=M_HD))"
   ]
  },
  {
   "cell_type": "code",
   "execution_count": 22,
   "id": "af734d4d",
   "metadata": {},
   "outputs": [
    {
     "name": "stdout",
     "output_type": "stream",
     "text": [
      "Targeted LDS dimension: 2\n"
     ]
    }
   ],
   "source": [
    "# Targeted dimension of the LD embeddings\n",
    "dim_LDS = 2\n",
    "print(\"Targeted LDS dimension: {dim_LDS}\".format(dim_LDS=dim_LDS))"
   ]
  },
  {
   "cell_type": "code",
   "execution_count": 25,
   "id": "06ada41c",
   "metadata": {},
   "outputs": [
    {
     "name": "stdout",
     "output_type": "stream",
     "text": [
      "The data set is big in terms of its number of samples.\n",
      "Multi-scale SNE, multi-scale t-SNE and t-SNE are hence not applied; only their fast versions are employed (fast multi-scale SNE, fast multi-scale t-SNE and Barnes-Hut t-SNE).\n",
      "The reduced DR quality is evaluated; it means that the R_{NX}(K) curve is computed only for K=1 to Kup=10000, and that the AUC refers to the area under this reduced curve, with a log scale for K, instead of the full one for K=1 to N-2=10998, with N being the number of data samples.\n"
     ]
    }
   ],
   "source": [
    "big_data = (N_samp >= 10000)\n",
    "if big_data:\n",
    "    print('The data set is big in terms of its number of samples.')\n",
    "    print('Multi-scale SNE, multi-scale t-SNE and t-SNE are hence not applied; only their fast versions are employed (fast multi-scale SNE, fast multi-scale t-SNE and Barnes-Hut t-SNE).')\n",
    "    print('The reduced DR quality is evaluated; it means that the R_{NX}(K) curve is computed only for K=1 to Kup={Kup}, and that the AUC refers to the area under this reduced curve, with a log scale for K, instead of the full one for K=1 to N-2={v}, with N being the number of data samples.'.format(Kup=Kup, v=N_samp-2, NX='{NX}'))\n",
    "else:\n",
    "    print('The data set is moderate in terms of its number of samples.')\n",
    "    print('Multi-scale SNE, multi-scale t-SNE and t-SNE are hence applied, as well as their fast versions (fast multi-scale SNE, fast multi-scale t-SNE and Barnes-Hut t-SNE).')\n",
    "    print('The DR quality is completely evaluated; the R_{NX}(K) curve is computed for K=1 to N-2={v}, with N being the number of data samples, and the AUC refers to the area under this curve with a log scale for K.'.format(v=N_samp-2, NX='{NX}'))"
   ]
  },
  {
   "cell_type": "code",
   "execution_count": null,
   "id": "4e7ae66c",
   "metadata": {},
   "outputs": [],
   "source": []
  }
 ],
 "metadata": {
  "kernelspec": {
   "display_name": "Python 3 (ipykernel)",
   "language": "python",
   "name": "python3"
  },
  "language_info": {
   "codemirror_mode": {
    "name": "ipython",
    "version": 3
   },
   "file_extension": ".py",
   "mimetype": "text/x-python",
   "name": "python",
   "nbconvert_exporter": "python",
   "pygments_lexer": "ipython3",
   "version": "3.10.9"
  }
 },
 "nbformat": 4,
 "nbformat_minor": 5
}
