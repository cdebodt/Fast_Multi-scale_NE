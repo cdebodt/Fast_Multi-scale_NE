{
 "cells": [
  {
   "cell_type": "code",
   "execution_count": 1,
   "id": "c405c88e",
   "metadata": {},
   "outputs": [],
   "source": [
    "import sklearn.datasets\n",
    "import sklearn.manifold\n",
    "import time\n",
    "\n",
    "import fmsne"
   ]
  },
  {
   "cell_type": "code",
   "execution_count": 2,
   "id": "93f0350c",
   "metadata": {},
   "outputs": [
    {
     "data": {
      "text/plain": [
       "10000"
      ]
     },
     "execution_count": 2,
     "metadata": {},
     "output_type": "execute_result"
    }
   ],
   "source": [
    "# Largest neighborhood size to consider when employing the\n",
    "# 'red_rnx_auc' function for the reduced quality assessment in the\n",
    "# demo.\n",
    "Kup = 10000\n",
    "Kup"
   ]
  },
  {
   "cell_type": "code",
   "execution_count": 3,
   "id": "66725e48",
   "metadata": {},
   "outputs": [],
   "source": [
    "X_hds, label = sklearn.datasets.make_blobs(n_samples=11000, n_features=12, centers=22, cluster_std=1.0, center_box=(-10.0, 10.0), shuffle=True, random_state=3)"
   ]
  },
  {
   "cell_type": "code",
   "execution_count": 4,
   "id": "023be0ec",
   "metadata": {},
   "outputs": [
    {
     "data": {
      "text/plain": [
       "array([[-2.17835312,  0.83513348,  2.44378383, ..., -4.05643124,\n",
       "        -7.70324025,  3.86181136],\n",
       "       [ 2.95942852,  0.73188722,  6.31845425, ...,  4.60871667,\n",
       "         4.38290148,  7.3494298 ],\n",
       "       [ 1.55727311,  3.4814885 , -5.08383881, ..., -0.93708656,\n",
       "        -8.93866356, -0.11697329],\n",
       "       ...,\n",
       "       [ 0.7868025 ,  6.93857284, -5.42869924, ..., -6.266406  ,\n",
       "         3.95897172, -6.41283556],\n",
       "       [ 2.05716344,  6.41917298,  3.25338142, ..., -4.7592105 ,\n",
       "         7.82157572,  6.29655331],\n",
       "       [ 5.55539457,  1.03317579, -0.5089204 , ..., -0.76421238,\n",
       "         3.25146932,  1.005046  ]])"
      ]
     },
     "execution_count": 4,
     "metadata": {},
     "output_type": "execute_result"
    }
   ],
   "source": [
    "X_hds"
   ]
  },
  {
   "cell_type": "code",
   "execution_count": 10,
   "id": "3d2ea4e3",
   "metadata": {},
   "outputs": [
    {
     "data": {
      "text/plain": [
       "array([19,  7,  0, ..., 11, 12, 21])"
      ]
     },
     "execution_count": 10,
     "metadata": {},
     "output_type": "execute_result"
    }
   ],
   "source": [
    "label"
   ]
  },
  {
   "cell_type": "code",
   "execution_count": 5,
   "id": "334f4ecd",
   "metadata": {},
   "outputs": [
    {
     "name": "stdout",
     "output_type": "stream",
     "text": [
      "Number of data samples: 11000\n",
      "HDS dimension: 12\n"
     ]
    }
   ],
   "source": [
    "N_samp, M_HD = X_hds.shape\n",
    "print(\"Number of data samples: {N_samp}\".format(N_samp=N_samp))\n",
    "print(\"HDS dimension: {M_HD}\".format(M_HD=M_HD))"
   ]
  },
  {
   "cell_type": "code",
   "execution_count": 6,
   "id": "af734d4d",
   "metadata": {},
   "outputs": [
    {
     "name": "stdout",
     "output_type": "stream",
     "text": [
      "Targeted LDS dimension: 2\n"
     ]
    }
   ],
   "source": [
    "# Targeted dimension of the LD embeddings\n",
    "dim_LDS = 2\n",
    "print(\"Targeted LDS dimension: {dim_LDS}\".format(dim_LDS=dim_LDS))"
   ]
  },
  {
   "cell_type": "code",
   "execution_count": 25,
   "id": "06ada41c",
   "metadata": {},
   "outputs": [
    {
     "name": "stdout",
     "output_type": "stream",
     "text": [
      "The data set is big in terms of its number of samples.\n",
      "Multi-scale SNE, multi-scale t-SNE and t-SNE are hence not applied; only their fast versions are employed (fast multi-scale SNE, fast multi-scale t-SNE and Barnes-Hut t-SNE).\n",
      "The reduced DR quality is evaluated; it means that the R_{NX}(K) curve is computed only for K=1 to Kup=10000, and that the AUC refers to the area under this reduced curve, with a log scale for K, instead of the full one for K=1 to N-2=10998, with N being the number of data samples.\n"
     ]
    }
   ],
   "source": [
    "big_data = (N_samp >= 10000)\n",
    "if big_data:\n",
    "    print('The data set is big in terms of its number of samples.')\n",
    "    print('Multi-scale SNE, multi-scale t-SNE and t-SNE are hence not applied; only their fast versions are employed (fast multi-scale SNE, fast multi-scale t-SNE and Barnes-Hut t-SNE).')\n",
    "    print('The reduced DR quality is evaluated; it means that the R_{NX}(K) curve is computed only for K=1 to Kup={Kup}, and that the AUC refers to the area under this reduced curve, with a log scale for K, instead of the full one for K=1 to N-2={v}, with N being the number of data samples.'.format(Kup=Kup, v=N_samp-2, NX='{NX}'))\n",
    "else:\n",
    "    print('The data set is moderate in terms of its number of samples.')\n",
    "    print('Multi-scale SNE, multi-scale t-SNE and t-SNE are hence applied, as well as their fast versions (fast multi-scale SNE, fast multi-scale t-SNE and Barnes-Hut t-SNE).')\n",
    "    print('The DR quality is completely evaluated; the R_{NX}(K) curve is computed for K=1 to N-2={v}, with N being the number of data samples, and the AUC refers to the area under this curve with a log scale for K.'.format(v=N_samp-2, NX='{NX}'))"
   ]
  },
  {
   "cell_type": "code",
   "execution_count": 12,
   "id": "4e7ae66c",
   "metadata": {},
   "outputs": [],
   "source": [
    "y1 = fmsne.fmstsne(X_hds=X_hds, rand_state=fmsne.np.random.RandomState(2))"
   ]
  },
  {
   "cell_type": "code",
   "execution_count": 13,
   "id": "b506f4b9",
   "metadata": {},
   "outputs": [],
   "source": [
    "y2 = fmsne.fmssne(X_hds=X_hds, rand_state=fmsne.np.random.RandomState(2))"
   ]
  },
  {
   "cell_type": "code",
   "execution_count": 14,
   "id": "524ded71",
   "metadata": {},
   "outputs": [
    {
     "data": {
      "text/plain": [
       "array([[-12.07205687, -33.37838333],\n",
       "       [ 21.43619895,  23.89537509],\n",
       "       [ 21.75063098,  -1.804262  ],\n",
       "       ...,\n",
       "       [ 41.63248488,  38.06032428],\n",
       "       [ 16.81745447, -54.48726426],\n",
       "       [ 39.07990616,   9.95451969]])"
      ]
     },
     "execution_count": 14,
     "metadata": {},
     "output_type": "execute_result"
    }
   ],
   "source": [
    "y1\n",
    "y2"
   ]
  },
  {
   "cell_type": "code",
   "execution_count": 15,
   "id": "f11d7316",
   "metadata": {},
   "outputs": [],
   "source": [
    "rnx = [] ## list storing rnx results \n",
    "Ys = []  ## list of LD arrays\n",
    "Ys.append(y1) ## add LDs\n",
    "Ys.append(y2)"
   ]
  },
  {
   "cell_type": "code",
   "execution_count": 16,
   "id": "fcbf72a1",
   "metadata": {},
   "outputs": [],
   "source": [
    "rnx = fmsne.eval_dr_quality_from_data_list(X_hds, Ys)"
   ]
  },
  {
   "cell_type": "code",
   "execution_count": 17,
   "id": "6634b090",
   "metadata": {},
   "outputs": [
    {
     "data": {
      "text/plain": [
       "[(array([ 5.58414398e-01,  4.89316231e-01,  4.37937605e-01, ...,\n",
       "         -2.42515185e-04, -1.81867782e-04, -9.09256232e-05]),\n",
       "  0.4351182960581622),\n",
       " (array([0.53095736, 0.44312601, 0.40647448, ..., 0.02803793, 0.03864337,\n",
       "         0.01991089]),\n",
       "  0.4344524385413029)]"
      ]
     },
     "execution_count": 17,
     "metadata": {},
     "output_type": "execute_result"
    }
   ],
   "source": [
    "rnx"
   ]
  }
 ],
 "metadata": {
  "kernelspec": {
   "display_name": "Python 3 (ipykernel)",
   "language": "python",
   "name": "python3"
  },
  "language_info": {
   "codemirror_mode": {
    "name": "ipython",
    "version": 3
   },
   "file_extension": ".py",
   "mimetype": "text/x-python",
   "name": "python",
   "nbconvert_exporter": "python",
   "pygments_lexer": "ipython3",
   "version": "3.10.9"
  }
 },
 "nbformat": 4,
 "nbformat_minor": 5
}
